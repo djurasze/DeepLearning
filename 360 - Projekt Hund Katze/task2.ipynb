{
 "cells": [
  {
   "cell_type": "code",
   "execution_count": 34,
   "metadata": {},
   "outputs": [
    {
     "data": {
      "application/vnd.jupyter.widget-view+json": {
       "model_id": "d5d80e0b00fe47cf9a4a95fa36c182e0",
       "version_major": 2,
       "version_minor": 0
      },
      "text/plain": [
       "HBox(children=(FloatProgress(value=0.0, max=2000.0), HTML(value='')))"
      ]
     },
     "metadata": {},
     "output_type": "display_data"
    },
    {
     "name": "stdout",
     "output_type": "stream",
     "text": [
      "\n"
     ]
    },
    {
     "data": {
      "application/vnd.jupyter.widget-view+json": {
       "model_id": "5c14db1c5f74454b8f8b93d5cbea6f59",
       "version_major": 2,
       "version_minor": 0
      },
      "text/plain": [
       "HBox(children=(FloatProgress(value=0.0, max=2000.0), HTML(value='')))"
      ]
     },
     "metadata": {},
     "output_type": "display_data"
    },
    {
     "name": "stdout",
     "output_type": "stream",
     "text": [
      "\n"
     ]
    }
   ],
   "source": [
    "import os\n",
    "from PIL import Image\n",
    "from tqdm.notebook import tqdm\n",
    "from functional import seq\n",
    "import numpy as np\n",
    "\n",
    "def read_images(path):\n",
    "    files = os.listdir(path) \n",
    "    files = [el for el in files[:2000] if el[-4:] == '.jpg']\n",
    "    \n",
    "    return list(seq(tqdm(files)) \\\n",
    "            .map(lambda file: open_file(os.path.join(path, file))) \\\n",
    "            .filter(lambda el: el is not None) \\\n",
    "            .map(resize) \\\n",
    "            .map(convert_colors)\n",
    "            .map(to_array)  \n",
    "               ) \\\n",
    "           \n",
    "\n",
    "def open_file(file):\n",
    "    try:\n",
    "        return Image.open(file)\n",
    "    except OSError:\n",
    "        pass\n",
    "    \n",
    "def resize(image):\n",
    "    return image.resize((224,224), Image.LANCZOS)\n",
    "\n",
    "def convert_colors(image):\n",
    "    return image.convert(\"RGB\")\n",
    "    \n",
    "def to_array(image):\n",
    "    return np.asarray(image)\n",
    "    \n",
    "cats = read_images(os.path.join(\"data\", \"PetImages\", \"Cat\"))\n",
    "dogs = read_images(os.path.join(\"data\", \"PetImages\", \"Dog\"))\n",
    "\n",
    "# cats.size + dogs.size\n"
   ]
  },
  {
   "cell_type": "code",
   "execution_count": 35,
   "metadata": {},
   "outputs": [],
   "source": [
    "cats = np.asarray(cats)\n",
    "dogs = np.asarray(dogs)"
   ]
  },
  {
   "cell_type": "code",
   "execution_count": 36,
   "metadata": {},
   "outputs": [
    {
     "data": {
      "text/plain": [
       "(3999, 224, 224, 3)"
      ]
     },
     "execution_count": 36,
     "metadata": {},
     "output_type": "execute_result"
    }
   ],
   "source": [
    "cats.shape\n",
    "x = np.concatenate([dogs, cats])\n",
    "x.shape"
   ]
  },
  {
   "cell_type": "code",
   "execution_count": 37,
   "metadata": {},
   "outputs": [
    {
     "data": {
      "text/plain": [
       "array([0., 0., 0., ..., 1., 1., 1.])"
      ]
     },
     "execution_count": 37,
     "metadata": {},
     "output_type": "execute_result"
    }
   ],
   "source": [
    "y_cats = np.ones(len(cats))\n",
    "y_dogs = np.zeros(len(dogs))\n",
    "\n",
    "y = np.concatenate([y_dogs, y_cats])\n",
    "y"
   ]
  },
  {
   "cell_type": "code",
   "execution_count": 38,
   "metadata": {},
   "outputs": [],
   "source": [
    "x = x.astype(np.float32) /255."
   ]
  },
  {
   "cell_type": "code",
   "execution_count": 39,
   "metadata": {},
   "outputs": [],
   "source": [
    "y = y.reshape(-1, 1)\n"
   ]
  },
  {
   "cell_type": "code",
   "execution_count": null,
   "metadata": {},
   "outputs": [
    {
     "name": "stdout",
     "output_type": "stream",
     "text": [
      "Epoch 1/50\n",
      "63/63 [==============================] - 293s 5s/step - loss: 0.6920 - acc: 0.5204\n",
      "Epoch 2/50\n",
      "63/63 [==============================] - 324s 5s/step - loss: 0.6865 - acc: 0.5654\n",
      "Epoch 3/50\n",
      "63/63 [==============================] - 329s 5s/step - loss: 0.6722 - acc: 0.6029\n",
      "Epoch 4/50\n",
      "63/63 [==============================] - 322s 5s/step - loss: 0.6591 - acc: 0.6062\n",
      "Epoch 5/50\n",
      "63/63 [==============================] - 340s 5s/step - loss: 0.6493 - acc: 0.6159\n",
      "Epoch 6/50\n",
      "63/63 [==============================] - 321s 5s/step - loss: 0.6380 - acc: 0.6384\n",
      "Epoch 7/50\n",
      "63/63 [==============================] - 319s 5s/step - loss: 0.6374 - acc: 0.6384\n",
      "Epoch 8/50\n",
      "63/63 [==============================] - 319s 5s/step - loss: 0.6198 - acc: 0.6552\n",
      "Epoch 9/50\n",
      "63/63 [==============================] - 324s 5s/step - loss: 0.6049 - acc: 0.6789\n",
      "Epoch 10/50\n",
      "63/63 [==============================] - 326s 5s/step - loss: 0.6070 - acc: 0.6722\n",
      "Epoch 11/50\n",
      "63/63 [==============================] - 317s 5s/step - loss: 0.5973 - acc: 0.6817\n",
      "Epoch 12/50\n",
      "63/63 [==============================] - 307s 5s/step - loss: 0.5858 - acc: 0.6889\n",
      "Epoch 13/50\n",
      "63/63 [==============================] - 291s 5s/step - loss: 0.5746 - acc: 0.7079\n",
      "Epoch 14/50\n",
      "63/63 [==============================] - 291s 5s/step - loss: 0.5743 - acc: 0.7064\n",
      "Epoch 15/50\n",
      "63/63 [==============================] - 4556s 73s/step - loss: 0.5616 - acc: 0.7207\n",
      "Epoch 16/50\n",
      "63/63 [==============================] - 276s 4s/step - loss: 0.5504 - acc: 0.7234\n",
      "Epoch 17/50\n",
      "63/63 [==============================] - 293s 5s/step - loss: 0.5461 - acc: 0.7262\n",
      "Epoch 18/50\n",
      "63/63 [==============================] - 304s 5s/step - loss: 0.5421 - acc: 0.7304\n",
      "Epoch 19/50\n",
      "63/63 [==============================] - 306s 5s/step - loss: 0.5272 - acc: 0.7409\n",
      "Epoch 20/50\n",
      "63/63 [==============================] - 313s 5s/step - loss: 0.5152 - acc: 0.7532\n",
      "Epoch 21/50\n",
      "63/63 [==============================] - 318s 5s/step - loss: 0.5080 - acc: 0.7497\n",
      "Epoch 22/50\n",
      "63/63 [==============================] - 319s 5s/step - loss: 0.5007 - acc: 0.7592\n",
      "Epoch 23/50\n",
      "63/63 [==============================] - 291s 5s/step - loss: 0.4923 - acc: 0.7644\n",
      "Epoch 24/50\n",
      "63/63 [==============================] - 296s 5s/step - loss: 0.4818 - acc: 0.7674\n",
      "Epoch 25/50\n",
      "63/63 [==============================] - 309s 5s/step - loss: 0.4680 - acc: 0.7832\n",
      "Epoch 26/50\n",
      "63/63 [==============================] - 286s 5s/step - loss: 0.4755 - acc: 0.7747\n",
      "Epoch 27/50\n",
      "63/63 [==============================] - 289s 5s/step - loss: 0.4502 - acc: 0.7982\n",
      "Epoch 28/50\n",
      "63/63 [==============================] - 289s 5s/step - loss: 0.4465 - acc: 0.7937\n",
      "Epoch 29/50\n",
      "49/63 [======================>.......] - ETA: 4:49 - loss: 0.4317 - acc: 0.8099"
     ]
    }
   ],
   "source": [
    "from keras.models import Sequential\n",
    "from keras.layers import Conv2D, Dense, MaxPooling2D, Dropout, Flatten\n",
    "\n",
    "model = Sequential()\n",
    "model.add(Conv2D(32, kernel_size=(3,3), activation=\"relu\", input_shape=(224,224,3)))\n",
    "model.add(Conv2D(32, kernel_size=(3,3), activation=\"relu\"))\n",
    "model.add(MaxPooling2D())\n",
    "\n",
    "model.add(Conv2D(64, kernel_size=(3,3), activation=\"relu\"))\n",
    "model.add(Conv2D(64, kernel_size=(3,3), activation=\"relu\"))\n",
    "model.add(MaxPooling2D())\n",
    "\n",
    "model.add(Conv2D(128, kernel_size=(3,3), activation=\"relu\"))\n",
    "model.add(Conv2D(128, kernel_size=(3,3), activation=\"relu\"))\n",
    "model.add(MaxPooling2D())\n",
    "\n",
    "model.add(Conv2D(128, kernel_size=(3,3), activation=\"relu\"))\n",
    "model.add(Conv2D(128, kernel_size=(3,3), activation=\"relu\"))\n",
    "model.add(MaxPooling2D())\n",
    "\n",
    "model.add(Flatten())\n",
    "\n",
    "model.add(Dense(1024, activation=\"relu\"))\n",
    "model.add(Dense(128, activation=\"relu\"))\n",
    "model.add(Dense(1, activation=\"sigmoid\"))\n",
    "\n",
    "from tensorflow.keras.optimizers import Adam\n",
    "\n",
    "model.compile(optimizer=Adam(learning_rate=0.00001), loss=\"binary_crossentropy\", metrics=[\"acc\"])\n",
    "\n",
    "model.fit(x, y, epochs=50, batch_size=64)\n"
   ]
  },
  {
   "cell_type": "code",
   "execution_count": null,
   "metadata": {},
   "outputs": [],
   "source": []
  }
 ],
 "metadata": {
  "kernelspec": {
   "display_name": "Python 3",
   "language": "python",
   "name": "python3"
  },
  "language_info": {
   "codemirror_mode": {
    "name": "ipython",
    "version": 3
   },
   "file_extension": ".py",
   "mimetype": "text/x-python",
   "name": "python",
   "nbconvert_exporter": "python",
   "pygments_lexer": "ipython3",
   "version": "3.8.3"
  }
 },
 "nbformat": 4,
 "nbformat_minor": 4
}
